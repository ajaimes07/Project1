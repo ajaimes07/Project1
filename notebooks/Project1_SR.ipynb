{
 "cells": [
  {
   "cell_type": "code",
   "execution_count": 2,
   "metadata": {},
   "outputs": [],
   "source": [
    "import pandas as pd\n",
    "import matplotlib.pyplot as plt\n",
    "import numpy as np"
   ]
  },
  {
   "cell_type": "code",
   "execution_count": 3,
   "metadata": {},
   "outputs": [],
   "source": [
    "csv_path1 = \"Housepy_raw.csv\"\n",
    "csv_path2 = \"TopSchools.csv\"\n",
    "\n",
    "housepy_df = pd.read_csv(csv_path1)\n",
    "topschool = pd.read_csv(csv_path2)"
   ]
  },
  {
   "cell_type": "code",
   "execution_count": 4,
   "metadata": {
    "scrolled": false
   },
   "outputs": [
    {
     "data": {
      "text/html": [
       "<div>\n",
       "<style scoped>\n",
       "    .dataframe tbody tr th:only-of-type {\n",
       "        vertical-align: middle;\n",
       "    }\n",
       "\n",
       "    .dataframe tbody tr th {\n",
       "        vertical-align: top;\n",
       "    }\n",
       "\n",
       "    .dataframe thead th {\n",
       "        text-align: right;\n",
       "    }\n",
       "</style>\n",
       "<table border=\"1\" class=\"dataframe\">\n",
       "  <thead>\n",
       "    <tr style=\"text-align: right;\">\n",
       "      <th></th>\n",
       "      <th>MLS Number</th>\n",
       "      <th>Street Number</th>\n",
       "      <th>Street Name</th>\n",
       "      <th>City/Location</th>\n",
       "      <th>Zip Code</th>\n",
       "      <th>List Price</th>\n",
       "      <th>Close Price</th>\n",
       "      <th>Close Date</th>\n",
       "      <th>Area</th>\n",
       "      <th>Subdivision</th>\n",
       "      <th>...</th>\n",
       "      <th>Price Sq Ft Sold</th>\n",
       "      <th>Lot Size</th>\n",
       "      <th>Year Built</th>\n",
       "      <th>Bedrooms</th>\n",
       "      <th>Baths Total</th>\n",
       "      <th>New Construction</th>\n",
       "      <th>Pool Private</th>\n",
       "      <th>No Of Garage Cap</th>\n",
       "      <th>Style</th>\n",
       "      <th>CDOM</th>\n",
       "    </tr>\n",
       "  </thead>\n",
       "  <tbody>\n",
       "    <tr>\n",
       "      <th>0</th>\n",
       "      <td>85605507</td>\n",
       "      <td>823</td>\n",
       "      <td>Loper</td>\n",
       "      <td>Houston</td>\n",
       "      <td>77017</td>\n",
       "      <td>44500</td>\n",
       "      <td>44500</td>\n",
       "      <td>42219</td>\n",
       "      <td>3.0</td>\n",
       "      <td>Oak Meadows Sec 01</td>\n",
       "      <td>...</td>\n",
       "      <td>35.83</td>\n",
       "      <td>6600.0</td>\n",
       "      <td>1950.0</td>\n",
       "      <td>3</td>\n",
       "      <td>1.0</td>\n",
       "      <td>False</td>\n",
       "      <td>False</td>\n",
       "      <td>2</td>\n",
       "      <td>Traditional</td>\n",
       "      <td>81</td>\n",
       "    </tr>\n",
       "    <tr>\n",
       "      <th>1</th>\n",
       "      <td>67891056</td>\n",
       "      <td>9009</td>\n",
       "      <td>Freeland</td>\n",
       "      <td>Houston</td>\n",
       "      <td>77075</td>\n",
       "      <td>65000</td>\n",
       "      <td>60000</td>\n",
       "      <td>42219</td>\n",
       "      <td>3.0</td>\n",
       "      <td>Easthaven</td>\n",
       "      <td>...</td>\n",
       "      <td>45.87</td>\n",
       "      <td>7500.0</td>\n",
       "      <td>1977.0</td>\n",
       "      <td>3</td>\n",
       "      <td>2.0</td>\n",
       "      <td>False</td>\n",
       "      <td>False</td>\n",
       "      <td>0</td>\n",
       "      <td>Traditional</td>\n",
       "      <td>19</td>\n",
       "    </tr>\n",
       "    <tr>\n",
       "      <th>2</th>\n",
       "      <td>97810747</td>\n",
       "      <td>17503</td>\n",
       "      <td>Waverly Grove</td>\n",
       "      <td>Houston</td>\n",
       "      <td>77084</td>\n",
       "      <td>90000</td>\n",
       "      <td>78500</td>\n",
       "      <td>42219</td>\n",
       "      <td>8.0</td>\n",
       "      <td>Ashley Grove</td>\n",
       "      <td>...</td>\n",
       "      <td>94.69</td>\n",
       "      <td>3900.0</td>\n",
       "      <td>1984.0</td>\n",
       "      <td>2</td>\n",
       "      <td>1.0</td>\n",
       "      <td>False</td>\n",
       "      <td>False</td>\n",
       "      <td>1</td>\n",
       "      <td>Traditional</td>\n",
       "      <td>70</td>\n",
       "    </tr>\n",
       "    <tr>\n",
       "      <th>3</th>\n",
       "      <td>94468427</td>\n",
       "      <td>6619</td>\n",
       "      <td>Briar Glade</td>\n",
       "      <td>Houston</td>\n",
       "      <td>77072</td>\n",
       "      <td>85900</td>\n",
       "      <td>85000</td>\n",
       "      <td>42219</td>\n",
       "      <td>28.0</td>\n",
       "      <td>Brays Village East Sec 02</td>\n",
       "      <td>...</td>\n",
       "      <td>46.60</td>\n",
       "      <td>4050.0</td>\n",
       "      <td>1980.0</td>\n",
       "      <td>3</td>\n",
       "      <td>2.0</td>\n",
       "      <td>False</td>\n",
       "      <td>False</td>\n",
       "      <td>2</td>\n",
       "      <td>Traditional</td>\n",
       "      <td>40</td>\n",
       "    </tr>\n",
       "    <tr>\n",
       "      <th>4</th>\n",
       "      <td>19671424</td>\n",
       "      <td>546</td>\n",
       "      <td>Glenvale</td>\n",
       "      <td>Houston</td>\n",
       "      <td>77060</td>\n",
       "      <td>105000</td>\n",
       "      <td>94000</td>\n",
       "      <td>42219</td>\n",
       "      <td>12.0</td>\n",
       "      <td>Colonial Hills</td>\n",
       "      <td>...</td>\n",
       "      <td>86.32</td>\n",
       "      <td>6090.0</td>\n",
       "      <td>1968.0</td>\n",
       "      <td>3</td>\n",
       "      <td>1.1</td>\n",
       "      <td>False</td>\n",
       "      <td>False</td>\n",
       "      <td>1</td>\n",
       "      <td>Traditional</td>\n",
       "      <td>98</td>\n",
       "    </tr>\n",
       "  </tbody>\n",
       "</table>\n",
       "<p>5 rows × 26 columns</p>\n",
       "</div>"
      ],
      "text/plain": [
       "   MLS Number Street Number    Street Name City/Location  Zip Code  \\\n",
       "0    85605507           823          Loper       Houston     77017   \n",
       "1    67891056          9009       Freeland       Houston     77075   \n",
       "2    97810747         17503  Waverly Grove       Houston     77084   \n",
       "3    94468427          6619    Briar Glade       Houston     77072   \n",
       "4    19671424           546       Glenvale       Houston     77060   \n",
       "\n",
       "   List Price  Close Price  Close Date  Area                Subdivision  ...  \\\n",
       "0       44500        44500       42219   3.0         Oak Meadows Sec 01  ...   \n",
       "1       65000        60000       42219   3.0                  Easthaven  ...   \n",
       "2       90000        78500       42219   8.0               Ashley Grove  ...   \n",
       "3       85900        85000       42219  28.0  Brays Village East Sec 02  ...   \n",
       "4      105000        94000       42219  12.0             Colonial Hills  ...   \n",
       "\n",
       "  Price Sq Ft Sold Lot Size Year Built Bedrooms Baths Total  New Construction  \\\n",
       "0            35.83   6600.0     1950.0        3         1.0             False   \n",
       "1            45.87   7500.0     1977.0        3         2.0             False   \n",
       "2            94.69   3900.0     1984.0        2         1.0             False   \n",
       "3            46.60   4050.0     1980.0        3         2.0             False   \n",
       "4            86.32   6090.0     1968.0        3         1.1             False   \n",
       "\n",
       "   Pool Private  No Of Garage Cap        Style  CDOM  \n",
       "0         False                 2  Traditional    81  \n",
       "1         False                 0  Traditional    19  \n",
       "2         False                 1  Traditional    70  \n",
       "3         False                 2  Traditional    40  \n",
       "4         False                 1  Traditional    98  \n",
       "\n",
       "[5 rows x 26 columns]"
      ]
     },
     "execution_count": 4,
     "metadata": {},
     "output_type": "execute_result"
    }
   ],
   "source": [
    "housepy_df.head()"
   ]
  },
  {
   "cell_type": "code",
   "execution_count": 5,
   "metadata": {},
   "outputs": [],
   "source": [
    "subset = housepy_df[['School Elementary','School Middle','School High']]"
   ]
  },
  {
   "cell_type": "code",
   "execution_count": 6,
   "metadata": {},
   "outputs": [
    {
     "data": {
      "text/plain": [
       "91815"
      ]
     },
     "execution_count": 6,
     "metadata": {},
     "output_type": "execute_result"
    }
   ],
   "source": [
    "#Does high school zoning impact price? SCHOOL DIST vs Outside data (one person beast)\n",
    "len(subset)"
   ]
  },
  {
   "cell_type": "code",
   "execution_count": 7,
   "metadata": {},
   "outputs": [
    {
     "data": {
      "text/plain": [
       "School Elementary    object\n",
       "School Middle        object\n",
       "School High          object\n",
       "dtype: object"
      ]
     },
     "execution_count": 7,
     "metadata": {},
     "output_type": "execute_result"
    }
   ],
   "source": [
    "subset.dtypes"
   ]
  },
  {
   "cell_type": "code",
   "execution_count": 8,
   "metadata": {},
   "outputs": [],
   "source": [
    "#Does high school zoning impact price? SCHOOL DIST vs Outside data (one person beast)"
   ]
  },
  {
   "cell_type": "markdown",
   "metadata": {},
   "source": [
    "## Zipcode Analysis"
   ]
  },
  {
   "cell_type": "code",
   "execution_count": 9,
   "metadata": {},
   "outputs": [],
   "source": [
    "groupby_school = housepy_df.groupby(['School District'])"
   ]
  },
  {
   "cell_type": "code",
   "execution_count": 10,
   "metadata": {},
   "outputs": [],
   "source": [
    "df_SchoolDistrict = pd.DataFrame(groupby_school.sum())"
   ]
  },
  {
   "cell_type": "code",
   "execution_count": 11,
   "metadata": {},
   "outputs": [
    {
     "name": "stdout",
     "output_type": "stream",
     "text": [
      "                          MLS Number    Zip Code  List Price  Close Price  \\\n",
      "School District                                                             \n",
      "1 - Aldine              210226965928   322461590   613422258    597350592   \n",
      "11 - Conroe                 53076969      231060     1318990      1314765   \n",
      "13 - Cypress-Fairbanks  740198129672  1115971226  3210190620   3139626177   \n",
      "19 - Fort Bend             891208552     1464339     2942801      2819351   \n",
      "2 - Alief               214258879527   322829718   916326073    886895654   \n",
      "\n",
      "                        Close Date      Area  Sq Ft Total  Price Sq Ft Sold  \\\n",
      "School District                                                               \n",
      "1 - Aldine               179820307   63651.0    7503307.0         340469.98   \n",
      "11 - Conroe                 129522      19.0       7811.0            508.96   \n",
      "13 - Cypress-Fairbanks   621936695  143982.0   33849991.0        1347749.12   \n",
      "19 - Fort Bend              813348     679.0      34963.0           1404.35   \n",
      "2 - Alief                179779217  127026.0    8807762.0         397730.99   \n",
      "\n",
      "                           Lot Size  Year Built  Bedrooms  Baths Total  \\\n",
      "School District                                                          \n",
      "1 - Aldine               32966198.0   8306346.0     13993       8172.4   \n",
      "11 - Conroe                  9614.0      6053.0        10          7.3   \n",
      "13 - Cypress-Fairbanks  116768851.0  28827427.0     51669      32696.8   \n",
      "19 - Fort Bend              82623.0     37842.0        68         40.9   \n",
      "2 - Alief                26203169.0   8327623.0     14304       9343.0   \n",
      "\n",
      "                        New Construction  Pool Private  No Of Garage Cap  \\\n",
      "School District                                                            \n",
      "1 - Aldine                         483.0         173.0              7211   \n",
      "11 - Conroe                          3.0           0.0                 7   \n",
      "13 - Cypress-Fairbanks             441.0        2193.0             30092   \n",
      "19 - Fort Bend                       3.0           1.0                35   \n",
      "2 - Alief                          297.0         344.0              8805   \n",
      "\n",
      "                          CDOM  \n",
      "School District                 \n",
      "1 - Aldine              210451  \n",
      "11 - Conroe                158  \n",
      "13 - Cypress-Fairbanks  754837  \n",
      "19 - Fort Bend            1008  \n",
      "2 - Alief               220115  \n"
     ]
    }
   ],
   "source": [
    "print(df_SchoolDistrict.head())"
   ]
  },
  {
   "cell_type": "code",
   "execution_count": 12,
   "metadata": {},
   "outputs": [],
   "source": [
    "df_schoolbyprice = df_SchoolDistrict['List Price']"
   ]
  },
  {
   "cell_type": "code",
   "execution_count": 13,
   "metadata": {},
   "outputs": [
    {
     "data": {
      "text/plain": [
       "School District\n",
       "1 - Aldine                 613422258\n",
       "11 - Conroe                  1318990\n",
       "13 - Cypress-Fairbanks    3210190620\n",
       "19 - Fort Bend               2942801\n",
       "2 - Alief                  916326073\n",
       "Name: List Price, dtype: int64"
      ]
     },
     "execution_count": 13,
     "metadata": {},
     "output_type": "execute_result"
    }
   ],
   "source": [
    "df_schoolbyprice.head()"
   ]
  },
  {
   "cell_type": "code",
   "execution_count": 14,
   "metadata": {},
   "outputs": [],
   "source": [
    "df_rand1 = df_schoolbyprice.sample(8)"
   ]
  },
  {
   "cell_type": "code",
   "execution_count": 15,
   "metadata": {},
   "outputs": [
    {
     "name": "stdout",
     "output_type": "stream",
     "text": [
      "School District\n",
      "41 - Pasadena              490608073\n",
      "29 - Humble               1019082411\n",
      "23 - Goose Creek              239999\n",
      "99 - Other                   2179600\n",
      "53 - Tomball                28033525\n",
      "13 - Cypress-Fairbanks    3210190620\n",
      "1 - Aldine                 613422258\n",
      "26 - Hitchcock                140000\n",
      "Name: List Price, dtype: int64\n"
     ]
    }
   ],
   "source": [
    "print(df_rand1)"
   ]
  },
  {
   "cell_type": "code",
   "execution_count": 16,
   "metadata": {},
   "outputs": [],
   "source": [
    "df_rand2 = df_schoolbyprice.sample(8)"
   ]
  },
  {
   "cell_type": "code",
   "execution_count": 17,
   "metadata": {},
   "outputs": [
    {
     "name": "stdout",
     "output_type": "stream",
     "text": [
      "School District\n",
      "49 - Spring Branch    5003487452\n",
      "21 - Galena Park       192985367\n",
      "19 - Fort Bend           2942801\n",
      "1 - Aldine             613422258\n",
      "28 - Huffman            20306544\n",
      "8 - Channelview         77778167\n",
      "9 - Clear Creek        955153904\n",
      "2 - Alief              916326073\n",
      "Name: List Price, dtype: int64\n"
     ]
    }
   ],
   "source": [
    "print(df_rand2)"
   ]
  },
  {
   "cell_type": "code",
   "execution_count": 18,
   "metadata": {},
   "outputs": [],
   "source": [
    "df_rand3 = df_schoolbyprice.sample(8)"
   ]
  },
  {
   "cell_type": "code",
   "execution_count": 19,
   "metadata": {
    "scrolled": true
   },
   "outputs": [
    {
     "name": "stdout",
     "output_type": "stream",
     "text": [
      "School District\n",
      "26 - Hitchcock                140000\n",
      "19 - Fort Bend               2942801\n",
      "33 - Lamar Consolidated       485319\n",
      "46 - Sheldon               269840943\n",
      "8 - Channelview             77778167\n",
      "28 - Huffman                20306544\n",
      "2 - Alief                  916326073\n",
      "21 - Galena Park           192985367\n",
      "Name: List Price, dtype: int64\n"
     ]
    }
   ],
   "source": [
    "print(df_rand3)"
   ]
  },
  {
   "cell_type": "code",
   "execution_count": 20,
   "metadata": {},
   "outputs": [
    {
     "data": {
      "image/png": "[encoded data removed]",
      "text/plain": [
       "<Figure size 432x288 with 1 Axes>"
      ]
     },
     "metadata": {
      "needs_background": "light"
     },
     "output_type": "display_data"
    }
   ],
   "source": [
    "df_rand1_plot = df_rand1.plot(kind='bar')"
   ]
  },
  {
   "cell_type": "markdown",
   "metadata": {},
   "source": [
    "df_rand1 = df_schoolbyprice.sort(columns='school',ascending=False).plot(kind='bar',legend=None,title=\"School Zoning vs Close Price\")\n",
    "df_rand1.set_xlabel(\"School\")\n",
    "my_plot.set_ylabel(\"ClosePrice ($)\")"
   ]
  },
  {
   "cell_type": "code",
   "execution_count": 21,
   "metadata": {},
   "outputs": [
    {
     "data": {
      "image/png": "[encoded data removed]",
      "text/plain": [
       "<Figure size 432x288 with 1 Axes>"
      ]
     },
     "metadata": {
      "needs_background": "light"
     },
     "output_type": "display_data"
    }
   ],
   "source": [
    "df_rand2_plot = df_rand2.plot(kind='bar')"
   ]
  },
  {
   "cell_type": "code",
   "execution_count": 22,
   "metadata": {},
   "outputs": [
    {
     "data": {
      "image/png": "[encoded data removed]",
      "text/plain": [
       "<Figure size 432x288 with 1 Axes>"
      ]
     },
     "metadata": {
      "needs_background": "light"
     },
     "output_type": "display_data"
    }
   ],
   "source": [
    "df_rand3_plot = df_rand3.plot(kind='bar')"
   ]
  },
  {
   "cell_type": "code",
   "execution_count": 23,
   "metadata": {},
   "outputs": [],
   "source": [
    "df_ranschool = df_schoolbyprice[[\"29 - Humble\", \"27 - Houston\", \"49 - Spring Branch\", \"30 - Katy\"]]"
   ]
  },
  {
   "cell_type": "code",
   "execution_count": 24,
   "metadata": {},
   "outputs": [
    {
     "data": {
      "text/plain": [
       "School District\n",
       "29 - Humble            1019082411\n",
       "27 - Houston          18795085674\n",
       "49 - Spring Branch     5003487452\n",
       "30 - Katy               743890938\n",
       "Name: List Price, dtype: int64"
      ]
     },
     "execution_count": 24,
     "metadata": {},
     "output_type": "execute_result"
    }
   ],
   "source": [
    "df_ranschool.head()"
   ]
  },
  {
   "cell_type": "code",
   "execution_count": 25,
   "metadata": {},
   "outputs": [
    {
     "data": {
      "image/png": "[encoded data removed]",
      "text/plain": [
       "<Figure size 432x288 with 1 Axes>"
      ]
     },
     "metadata": {
      "needs_background": "light"
     },
     "output_type": "display_data"
    }
   ],
   "source": [
    "df_randtotal_plot = df_ranschool.plot(kind='bar')"
   ]
  },
  {
   "cell_type": "code",
   "execution_count": 26,
   "metadata": {},
   "outputs": [
    {
     "data": {
      "text/html": [
       "<div>\n",
       "<style scoped>\n",
       "    .dataframe tbody tr th:only-of-type {\n",
       "        vertical-align: middle;\n",
       "    }\n",
       "\n",
       "    .dataframe tbody tr th {\n",
       "        vertical-align: top;\n",
       "    }\n",
       "\n",
       "    .dataframe thead th {\n",
       "        text-align: right;\n",
       "    }\n",
       "</style>\n",
       "<table border=\"1\" class=\"dataframe\">\n",
       "  <thead>\n",
       "    <tr style=\"text-align: right;\">\n",
       "      <th></th>\n",
       "      <th>School Elementary</th>\n",
       "      <th>Rating</th>\n",
       "      <th>Numerical Value</th>\n",
       "      <th>School Middle</th>\n",
       "      <th>Rating.1</th>\n",
       "      <th>Numerical Value.1</th>\n",
       "      <th>School High</th>\n",
       "      <th>Rating.2</th>\n",
       "      <th>Numerical Value.2</th>\n",
       "    </tr>\n",
       "  </thead>\n",
       "  <tbody>\n",
       "    <tr>\n",
       "      <th>0</th>\n",
       "      <td>CANYON POINT ELEMENTARY SCHOOL</td>\n",
       "      <td>A+</td>\n",
       "      <td>100</td>\n",
       "      <td>SPILLANE MIDDLE SCHOOL</td>\n",
       "      <td>A</td>\n",
       "      <td>95</td>\n",
       "      <td>MEMORIAL HIGH SCHOOL (SPRING BRANCH)</td>\n",
       "      <td>A+</td>\n",
       "      <td>100</td>\n",
       "    </tr>\n",
       "    <tr>\n",
       "      <th>1</th>\n",
       "      <td>HAMILTON ELEMENTARY SCHOOL</td>\n",
       "      <td>A</td>\n",
       "      <td>95</td>\n",
       "      <td>WILLOW WOOD JUNIOR HIGH</td>\n",
       "      <td>A</td>\n",
       "      <td>95</td>\n",
       "      <td>CYPRESS WOOD HIGH SCHOOL</td>\n",
       "      <td>A+</td>\n",
       "      <td>100</td>\n",
       "    </tr>\n",
       "    <tr>\n",
       "      <th>2</th>\n",
       "      <td>RENNELL ELEMENTARY SCHOOL</td>\n",
       "      <td>A</td>\n",
       "      <td>95</td>\n",
       "      <td>GOODSON MIDDLE SCHOOL</td>\n",
       "      <td>A</td>\n",
       "      <td>95</td>\n",
       "      <td>CYPRESS RANCHHIGH SCHOOL</td>\n",
       "      <td>A+</td>\n",
       "      <td>100</td>\n",
       "    </tr>\n",
       "    <tr>\n",
       "      <th>3</th>\n",
       "      <td>FRANCONE ELEMENTARY SCHOOL</td>\n",
       "      <td>B</td>\n",
       "      <td>85</td>\n",
       "      <td>RIVERWOOD MIDDLE SCHOOL</td>\n",
       "      <td>A</td>\n",
       "      <td>95</td>\n",
       "      <td>KINGWOOD HIGH SCHOOL</td>\n",
       "      <td>A+</td>\n",
       "      <td>100</td>\n",
       "    </tr>\n",
       "    <tr>\n",
       "      <th>4</th>\n",
       "      <td>HOLMSLEY ELEMENTARY SCHOOL</td>\n",
       "      <td>B</td>\n",
       "      <td>85</td>\n",
       "      <td>HUMBLE MILDDE SCHOOL</td>\n",
       "      <td>B-</td>\n",
       "      <td>80</td>\n",
       "      <td>TOMBALL MEMORIAL H S</td>\n",
       "      <td>A+</td>\n",
       "      <td>100</td>\n",
       "    </tr>\n",
       "  </tbody>\n",
       "</table>\n",
       "</div>"
      ],
      "text/plain": [
       "                 School Elementary Rating  Numerical Value  \\\n",
       "0  CANYON POINT ELEMENTARY SCHOOL      A+              100   \n",
       "1      HAMILTON ELEMENTARY SCHOOL       A               95   \n",
       "2       RENNELL ELEMENTARY SCHOOL       A               95   \n",
       "3      FRANCONE ELEMENTARY SCHOOL       B               85   \n",
       "4      HOLMSLEY ELEMENTARY SCHOOL       B               85   \n",
       "\n",
       "             School Middle Rating.1  Numerical Value.1  \\\n",
       "0   SPILLANE MIDDLE SCHOOL        A                 95   \n",
       "1  WILLOW WOOD JUNIOR HIGH        A                 95   \n",
       "2    GOODSON MIDDLE SCHOOL        A                 95   \n",
       "3  RIVERWOOD MIDDLE SCHOOL        A                 95   \n",
       "4     HUMBLE MILDDE SCHOOL       B-                 80   \n",
       "\n",
       "                            School High Rating.2  Numerical Value.2  \n",
       "0  MEMORIAL HIGH SCHOOL (SPRING BRANCH)       A+                100  \n",
       "1              CYPRESS WOOD HIGH SCHOOL       A+                100  \n",
       "2              CYPRESS RANCHHIGH SCHOOL       A+                100  \n",
       "3                  KINGWOOD HIGH SCHOOL       A+                100  \n",
       "4                  TOMBALL MEMORIAL H S       A+                100  "
      ]
     },
     "execution_count": 26,
     "metadata": {},
     "output_type": "execute_result"
    }
   ],
   "source": [
    "topschool.head()"
   ]
  },
  {
   "cell_type": "code",
   "execution_count": 27,
   "metadata": {},
   "outputs": [],
   "source": [
    "df_Elementary_rating = topschool[[\"School Elementary\", \"Rating\", \"Numerical Value\"]]"
   ]
  },
  {
   "cell_type": "code",
   "execution_count": 28,
   "metadata": {},
   "outputs": [],
   "source": [
    "df_Middle_rating = topschool[[\"School Middle\", \"Rating.1\", \"Numerical Value.1\"]]"
   ]
  },
  {
   "cell_type": "code",
   "execution_count": 29,
   "metadata": {},
   "outputs": [],
   "source": [
    "df_High_rating = topschool[[\"School High\", \"Rating.2\",\"Numerical Value.2\"]]"
   ]
  },
  {
   "cell_type": "code",
   "execution_count": 30,
   "metadata": {},
   "outputs": [],
   "source": [
    "df_Elementary_School_D_join = pd.merge(df_Elementary_rating, housepy_df,on=\"School Elementary\")"
   ]
  },
  {
   "cell_type": "code",
   "execution_count": 31,
   "metadata": {
    "scrolled": true
   },
   "outputs": [],
   "source": [
    "df_Middle_School_D_join = pd.merge(df_Middle_rating, housepy_df,on=\"School Middle\")"
   ]
  },
  {
   "cell_type": "code",
   "execution_count": 32,
   "metadata": {},
   "outputs": [],
   "source": [
    "df_High_School_D_join = pd.merge(df_High_rating, housepy_df,on=\"School High\")"
   ]
  },
  {
   "cell_type": "code",
   "execution_count": 33,
   "metadata": {},
   "outputs": [
    {
     "data": {
      "text/html": [
       "<div>\n",
       "<style scoped>\n",
       "    .dataframe tbody tr th:only-of-type {\n",
       "        vertical-align: middle;\n",
       "    }\n",
       "\n",
       "    .dataframe tbody tr th {\n",
       "        vertical-align: top;\n",
       "    }\n",
       "\n",
       "    .dataframe thead th {\n",
       "        text-align: right;\n",
       "    }\n",
       "</style>\n",
       "<table border=\"1\" class=\"dataframe\">\n",
       "  <thead>\n",
       "    <tr style=\"text-align: right;\">\n",
       "      <th></th>\n",
       "      <th>School District</th>\n",
       "      <th>Numerical Value.1</th>\n",
       "    </tr>\n",
       "  </thead>\n",
       "  <tbody>\n",
       "    <tr>\n",
       "      <th>0</th>\n",
       "      <td>13 - Cypress-Fairbanks</td>\n",
       "      <td>95</td>\n",
       "    </tr>\n",
       "    <tr>\n",
       "      <th>1</th>\n",
       "      <td>13 - Cypress-Fairbanks</td>\n",
       "      <td>95</td>\n",
       "    </tr>\n",
       "    <tr>\n",
       "      <th>2</th>\n",
       "      <td>13 - Cypress-Fairbanks</td>\n",
       "      <td>95</td>\n",
       "    </tr>\n",
       "    <tr>\n",
       "      <th>3</th>\n",
       "      <td>13 - Cypress-Fairbanks</td>\n",
       "      <td>95</td>\n",
       "    </tr>\n",
       "    <tr>\n",
       "      <th>4</th>\n",
       "      <td>13 - Cypress-Fairbanks</td>\n",
       "      <td>95</td>\n",
       "    </tr>\n",
       "    <tr>\n",
       "      <th>5</th>\n",
       "      <td>13 - Cypress-Fairbanks</td>\n",
       "      <td>95</td>\n",
       "    </tr>\n",
       "    <tr>\n",
       "      <th>6</th>\n",
       "      <td>13 - Cypress-Fairbanks</td>\n",
       "      <td>95</td>\n",
       "    </tr>\n",
       "    <tr>\n",
       "      <th>7</th>\n",
       "      <td>13 - Cypress-Fairbanks</td>\n",
       "      <td>95</td>\n",
       "    </tr>\n",
       "    <tr>\n",
       "      <th>8</th>\n",
       "      <td>13 - Cypress-Fairbanks</td>\n",
       "      <td>95</td>\n",
       "    </tr>\n",
       "    <tr>\n",
       "      <th>9</th>\n",
       "      <td>13 - Cypress-Fairbanks</td>\n",
       "      <td>95</td>\n",
       "    </tr>\n",
       "    <tr>\n",
       "      <th>10</th>\n",
       "      <td>13 - Cypress-Fairbanks</td>\n",
       "      <td>95</td>\n",
       "    </tr>\n",
       "    <tr>\n",
       "      <th>11</th>\n",
       "      <td>13 - Cypress-Fairbanks</td>\n",
       "      <td>95</td>\n",
       "    </tr>\n",
       "    <tr>\n",
       "      <th>12</th>\n",
       "      <td>13 - Cypress-Fairbanks</td>\n",
       "      <td>95</td>\n",
       "    </tr>\n",
       "    <tr>\n",
       "      <th>13</th>\n",
       "      <td>13 - Cypress-Fairbanks</td>\n",
       "      <td>95</td>\n",
       "    </tr>\n",
       "    <tr>\n",
       "      <th>14</th>\n",
       "      <td>13 - Cypress-Fairbanks</td>\n",
       "      <td>95</td>\n",
       "    </tr>\n",
       "    <tr>\n",
       "      <th>15</th>\n",
       "      <td>13 - Cypress-Fairbanks</td>\n",
       "      <td>95</td>\n",
       "    </tr>\n",
       "    <tr>\n",
       "      <th>16</th>\n",
       "      <td>13 - Cypress-Fairbanks</td>\n",
       "      <td>95</td>\n",
       "    </tr>\n",
       "    <tr>\n",
       "      <th>17</th>\n",
       "      <td>13 - Cypress-Fairbanks</td>\n",
       "      <td>95</td>\n",
       "    </tr>\n",
       "    <tr>\n",
       "      <th>18</th>\n",
       "      <td>13 - Cypress-Fairbanks</td>\n",
       "      <td>95</td>\n",
       "    </tr>\n",
       "    <tr>\n",
       "      <th>19</th>\n",
       "      <td>13 - Cypress-Fairbanks</td>\n",
       "      <td>95</td>\n",
       "    </tr>\n",
       "    <tr>\n",
       "      <th>20</th>\n",
       "      <td>13 - Cypress-Fairbanks</td>\n",
       "      <td>95</td>\n",
       "    </tr>\n",
       "    <tr>\n",
       "      <th>21</th>\n",
       "      <td>13 - Cypress-Fairbanks</td>\n",
       "      <td>95</td>\n",
       "    </tr>\n",
       "    <tr>\n",
       "      <th>22</th>\n",
       "      <td>13 - Cypress-Fairbanks</td>\n",
       "      <td>95</td>\n",
       "    </tr>\n",
       "    <tr>\n",
       "      <th>23</th>\n",
       "      <td>13 - Cypress-Fairbanks</td>\n",
       "      <td>95</td>\n",
       "    </tr>\n",
       "    <tr>\n",
       "      <th>24</th>\n",
       "      <td>13 - Cypress-Fairbanks</td>\n",
       "      <td>95</td>\n",
       "    </tr>\n",
       "    <tr>\n",
       "      <th>25</th>\n",
       "      <td>13 - Cypress-Fairbanks</td>\n",
       "      <td>95</td>\n",
       "    </tr>\n",
       "    <tr>\n",
       "      <th>26</th>\n",
       "      <td>13 - Cypress-Fairbanks</td>\n",
       "      <td>95</td>\n",
       "    </tr>\n",
       "    <tr>\n",
       "      <th>27</th>\n",
       "      <td>13 - Cypress-Fairbanks</td>\n",
       "      <td>95</td>\n",
       "    </tr>\n",
       "    <tr>\n",
       "      <th>28</th>\n",
       "      <td>13 - Cypress-Fairbanks</td>\n",
       "      <td>95</td>\n",
       "    </tr>\n",
       "    <tr>\n",
       "      <th>29</th>\n",
       "      <td>13 - Cypress-Fairbanks</td>\n",
       "      <td>95</td>\n",
       "    </tr>\n",
       "    <tr>\n",
       "      <th>...</th>\n",
       "      <td>...</td>\n",
       "      <td>...</td>\n",
       "    </tr>\n",
       "    <tr>\n",
       "      <th>4641</th>\n",
       "      <td>27 - Houston</td>\n",
       "      <td>75</td>\n",
       "    </tr>\n",
       "    <tr>\n",
       "      <th>4642</th>\n",
       "      <td>27 - Houston</td>\n",
       "      <td>75</td>\n",
       "    </tr>\n",
       "    <tr>\n",
       "      <th>4643</th>\n",
       "      <td>27 - Houston</td>\n",
       "      <td>75</td>\n",
       "    </tr>\n",
       "    <tr>\n",
       "      <th>4644</th>\n",
       "      <td>27 - Houston</td>\n",
       "      <td>75</td>\n",
       "    </tr>\n",
       "    <tr>\n",
       "      <th>4645</th>\n",
       "      <td>27 - Houston</td>\n",
       "      <td>75</td>\n",
       "    </tr>\n",
       "    <tr>\n",
       "      <th>4646</th>\n",
       "      <td>27 - Houston</td>\n",
       "      <td>75</td>\n",
       "    </tr>\n",
       "    <tr>\n",
       "      <th>4647</th>\n",
       "      <td>27 - Houston</td>\n",
       "      <td>75</td>\n",
       "    </tr>\n",
       "    <tr>\n",
       "      <th>4648</th>\n",
       "      <td>27 - Houston</td>\n",
       "      <td>75</td>\n",
       "    </tr>\n",
       "    <tr>\n",
       "      <th>4649</th>\n",
       "      <td>27 - Houston</td>\n",
       "      <td>75</td>\n",
       "    </tr>\n",
       "    <tr>\n",
       "      <th>4650</th>\n",
       "      <td>27 - Houston</td>\n",
       "      <td>75</td>\n",
       "    </tr>\n",
       "    <tr>\n",
       "      <th>4651</th>\n",
       "      <td>27 - Houston</td>\n",
       "      <td>75</td>\n",
       "    </tr>\n",
       "    <tr>\n",
       "      <th>4652</th>\n",
       "      <td>27 - Houston</td>\n",
       "      <td>75</td>\n",
       "    </tr>\n",
       "    <tr>\n",
       "      <th>4653</th>\n",
       "      <td>27 - Houston</td>\n",
       "      <td>75</td>\n",
       "    </tr>\n",
       "    <tr>\n",
       "      <th>4654</th>\n",
       "      <td>27 - Houston</td>\n",
       "      <td>75</td>\n",
       "    </tr>\n",
       "    <tr>\n",
       "      <th>4655</th>\n",
       "      <td>27 - Houston</td>\n",
       "      <td>75</td>\n",
       "    </tr>\n",
       "    <tr>\n",
       "      <th>4656</th>\n",
       "      <td>27 - Houston</td>\n",
       "      <td>75</td>\n",
       "    </tr>\n",
       "    <tr>\n",
       "      <th>4657</th>\n",
       "      <td>27 - Houston</td>\n",
       "      <td>75</td>\n",
       "    </tr>\n",
       "    <tr>\n",
       "      <th>4658</th>\n",
       "      <td>27 - Houston</td>\n",
       "      <td>75</td>\n",
       "    </tr>\n",
       "    <tr>\n",
       "      <th>4659</th>\n",
       "      <td>27 - Houston</td>\n",
       "      <td>75</td>\n",
       "    </tr>\n",
       "    <tr>\n",
       "      <th>4660</th>\n",
       "      <td>27 - Houston</td>\n",
       "      <td>75</td>\n",
       "    </tr>\n",
       "    <tr>\n",
       "      <th>4661</th>\n",
       "      <td>27 - Houston</td>\n",
       "      <td>75</td>\n",
       "    </tr>\n",
       "    <tr>\n",
       "      <th>4662</th>\n",
       "      <td>27 - Houston</td>\n",
       "      <td>75</td>\n",
       "    </tr>\n",
       "    <tr>\n",
       "      <th>4663</th>\n",
       "      <td>27 - Houston</td>\n",
       "      <td>75</td>\n",
       "    </tr>\n",
       "    <tr>\n",
       "      <th>4664</th>\n",
       "      <td>27 - Houston</td>\n",
       "      <td>75</td>\n",
       "    </tr>\n",
       "    <tr>\n",
       "      <th>4665</th>\n",
       "      <td>27 - Houston</td>\n",
       "      <td>75</td>\n",
       "    </tr>\n",
       "    <tr>\n",
       "      <th>4666</th>\n",
       "      <td>27 - Houston</td>\n",
       "      <td>75</td>\n",
       "    </tr>\n",
       "    <tr>\n",
       "      <th>4667</th>\n",
       "      <td>27 - Houston</td>\n",
       "      <td>75</td>\n",
       "    </tr>\n",
       "    <tr>\n",
       "      <th>4668</th>\n",
       "      <td>27 - Houston</td>\n",
       "      <td>75</td>\n",
       "    </tr>\n",
       "    <tr>\n",
       "      <th>4669</th>\n",
       "      <td>27 - Houston</td>\n",
       "      <td>75</td>\n",
       "    </tr>\n",
       "    <tr>\n",
       "      <th>4670</th>\n",
       "      <td>27 - Houston</td>\n",
       "      <td>75</td>\n",
       "    </tr>\n",
       "  </tbody>\n",
       "</table>\n",
       "<p>4671 rows × 2 columns</p>\n",
       "</div>"
      ],
      "text/plain": [
       "             School District  Numerical Value.1\n",
       "0     13 - Cypress-Fairbanks                 95\n",
       "1     13 - Cypress-Fairbanks                 95\n",
       "2     13 - Cypress-Fairbanks                 95\n",
       "3     13 - Cypress-Fairbanks                 95\n",
       "4     13 - Cypress-Fairbanks                 95\n",
       "5     13 - Cypress-Fairbanks                 95\n",
       "6     13 - Cypress-Fairbanks                 95\n",
       "7     13 - Cypress-Fairbanks                 95\n",
       "8     13 - Cypress-Fairbanks                 95\n",
       "9     13 - Cypress-Fairbanks                 95\n",
       "10    13 - Cypress-Fairbanks                 95\n",
       "11    13 - Cypress-Fairbanks                 95\n",
       "12    13 - Cypress-Fairbanks                 95\n",
       "13    13 - Cypress-Fairbanks                 95\n",
       "14    13 - Cypress-Fairbanks                 95\n",
       "15    13 - Cypress-Fairbanks                 95\n",
       "16    13 - Cypress-Fairbanks                 95\n",
       "17    13 - Cypress-Fairbanks                 95\n",
       "18    13 - Cypress-Fairbanks                 95\n",
       "19    13 - Cypress-Fairbanks                 95\n",
       "20    13 - Cypress-Fairbanks                 95\n",
       "21    13 - Cypress-Fairbanks                 95\n",
       "22    13 - Cypress-Fairbanks                 95\n",
       "23    13 - Cypress-Fairbanks                 95\n",
       "24    13 - Cypress-Fairbanks                 95\n",
       "25    13 - Cypress-Fairbanks                 95\n",
       "26    13 - Cypress-Fairbanks                 95\n",
       "27    13 - Cypress-Fairbanks                 95\n",
       "28    13 - Cypress-Fairbanks                 95\n",
       "29    13 - Cypress-Fairbanks                 95\n",
       "...                      ...                ...\n",
       "4641            27 - Houston                 75\n",
       "4642            27 - Houston                 75\n",
       "4643            27 - Houston                 75\n",
       "4644            27 - Houston                 75\n",
       "4645            27 - Houston                 75\n",
       "4646            27 - Houston                 75\n",
       "4647            27 - Houston                 75\n",
       "4648            27 - Houston                 75\n",
       "4649            27 - Houston                 75\n",
       "4650            27 - Houston                 75\n",
       "4651            27 - Houston                 75\n",
       "4652            27 - Houston                 75\n",
       "4653            27 - Houston                 75\n",
       "4654            27 - Houston                 75\n",
       "4655            27 - Houston                 75\n",
       "4656            27 - Houston                 75\n",
       "4657            27 - Houston                 75\n",
       "4658            27 - Houston                 75\n",
       "4659            27 - Houston                 75\n",
       "4660            27 - Houston                 75\n",
       "4661            27 - Houston                 75\n",
       "4662            27 - Houston                 75\n",
       "4663            27 - Houston                 75\n",
       "4664            27 - Houston                 75\n",
       "4665            27 - Houston                 75\n",
       "4666            27 - Houston                 75\n",
       "4667            27 - Houston                 75\n",
       "4668            27 - Houston                 75\n",
       "4669            27 - Houston                 75\n",
       "4670            27 - Houston                 75\n",
       "\n",
       "[4671 rows x 2 columns]"
      ]
     },
     "execution_count": 33,
     "metadata": {},
     "output_type": "execute_result"
    }
   ],
   "source": [
    "_Barchart1 = df_Middle_School_D_join\n",
    "_Barchart1[['School District','Numerical Value.1']]"
   ]
  },
  {
   "cell_type": "code",
   "execution_count": 34,
   "metadata": {},
   "outputs": [
    {
     "data": {
      "image/png": "[encoded data removed]",
      "text/plain": [
       "<Figure size 432x288 with 1 Axes>"
      ]
     },
     "metadata": {
      "needs_background": "light"
     },
     "output_type": "display_data"
    },
    {
     "data": {
      "image/png": "[encoded data removed]",
      "text/plain": [
       "<Figure size 432x288 with 1 Axes>"
      ]
     },
     "metadata": {
      "needs_background": "light"
     },
     "output_type": "display_data"
    }
   ],
   "source": [
    "plt.xticks(rotation='vertical')\n",
    "plt.bar(_Barchart1['School District'], _Barchart1['Numerical Value.1'], color='r')\n",
    "plt.show()\n",
    "plt.bar(_Barchart1['School District'], _Barchart1['Close Price'], color='b')\n",
    "plt.show()\n",
    "#plt.bar(_Barchart1['School District'], _Barchart1['Close Price'])\n",
    "#plt.xticks(x, label, rotation='vertical')"
   ]
  },
  {
   "cell_type": "code",
   "execution_count": 35,
   "metadata": {
    "scrolled": true
   },
   "outputs": [
    {
     "name": "stderr",
     "output_type": "stream",
     "text": [
      "C:\\Users\\sanja\\Anaconda3\\lib\\site-packages\\ipykernel_launcher.py:2: SettingWithCopyWarning: \n",
      "A value is trying to be set on a copy of a slice from a DataFrame.\n",
      "Try using .loc[row_indexer,col_indexer] = value instead\n",
      "\n",
      "See the caveats in the documentation: http://pandas.pydata.org/pandas-docs/stable/indexing.html#indexing-view-versus-copy\n",
      "  \n",
      "C:\\Users\\sanja\\Anaconda3\\lib\\site-packages\\ipykernel_launcher.py:3: SettingWithCopyWarning: \n",
      "A value is trying to be set on a copy of a slice from a DataFrame.\n",
      "Try using .loc[row_indexer,col_indexer] = value instead\n",
      "\n",
      "See the caveats in the documentation: http://pandas.pydata.org/pandas-docs/stable/indexing.html#indexing-view-versus-copy\n",
      "  This is separate from the ipykernel package so we can avoid doing imports until\n"
     ]
    },
    {
     "data": {
      "text/plain": [
       "Text(0, 0.5, 'Close Price')"
      ]
     },
     "execution_count": 35,
     "metadata": {},
     "output_type": "execute_result"
    },
    {
     "data": {
      "image/png": "[encoded data removed]",
      "text/plain": [
       "<Figure size 432x288 with 1 Axes>"
      ]
     },
     "metadata": {
      "needs_background": "light"
     },
     "output_type": "display_data"
    }
   ],
   "source": [
    "_Barchart2 = df_High_School_D_join[['School District','Numerical Value.2', 'Close Price']]\n",
    "_Barchart2['percentNV'] = _Barchart2['Numerical Value.2']/_Barchart2['Numerical Value.2'].sum()\n",
    "_Barchart2['percentCP'] = _Barchart2['Close Price']/_Barchart2['Close Price'].sum()\n",
    "_Barchart2 = _Barchart2.groupby(_Barchart2['School District']).sum()\n",
    "_Barchart2 = _Barchart2[['percentNV','percentCP']]\n",
    "_Barchart2.plot.bar()\n",
    "plt.title(\"High School\")\n",
    "plt.ylabel(\"Close Price\")\n"
   ]
  },
  {
   "cell_type": "code",
   "execution_count": 41,
   "metadata": {},
   "outputs": [
    {
     "name": "stderr",
     "output_type": "stream",
     "text": [
      "C:\\Users\\sanja\\Anaconda3\\lib\\site-packages\\ipykernel_launcher.py:2: SettingWithCopyWarning: \n",
      "A value is trying to be set on a copy of a slice from a DataFrame.\n",
      "Try using .loc[row_indexer,col_indexer] = value instead\n",
      "\n",
      "See the caveats in the documentation: http://pandas.pydata.org/pandas-docs/stable/indexing.html#indexing-view-versus-copy\n",
      "  \n",
      "C:\\Users\\sanja\\Anaconda3\\lib\\site-packages\\ipykernel_launcher.py:3: SettingWithCopyWarning: \n",
      "A value is trying to be set on a copy of a slice from a DataFrame.\n",
      "Try using .loc[row_indexer,col_indexer] = value instead\n",
      "\n",
      "See the caveats in the documentation: http://pandas.pydata.org/pandas-docs/stable/indexing.html#indexing-view-versus-copy\n",
      "  This is separate from the ipykernel package so we can avoid doing imports until\n"
     ]
    },
    {
     "data": {
      "text/plain": [
       "Text(0, 0.5, 'Close Price')"
      ]
     },
     "execution_count": 41,
     "metadata": {},
     "output_type": "execute_result"
    },
    {
     "data": {
      "text/plain": [
       "<Figure size 864x720 with 0 Axes>"
      ]
     },
     "metadata": {},
     "output_type": "display_data"
    },
    {
     "data": {
      "image/png": "[encoded data removed]",
      "text/plain": [
       "<Figure size 432x288 with 1 Axes>"
      ]
     },
     "metadata": {
      "needs_background": "light"
     },
     "output_type": "display_data"
    }
   ],
   "source": [
    "_Barchart1 = df_Middle_School_D_join [['School District','Numerical Value.1', 'Close Price']]\n",
    "_Barchart1['percentNV'] = _Barchart1['Numerical Value.1']/_Barchart1['Numerical Value.1'].sum()\n",
    "_Barchart1['percentCP'] = _Barchart1['Close Price']/_Barchart1['Close Price'].sum()\n",
    "_Barchart1 = _Barchart1.groupby(_Barchart1['School District']).sum()\n",
    "_Barchart1 = _Barchart1[['percentNV','percentCP']]\n",
    "\n",
    "fig = plt.figure(figsize=(12, 10))\n",
    "#fig.set_size_inches(18.5, 10.5, forward=True)\n",
    "#plt.tight_layout()\n",
    "#mng = plt.get_current_fig_manager()\n",
    "#mng.frame.Maximize(True)\n",
    "\n",
    "#plt.bar (x= ['School District'], y=(_Barchart1['Numerical Value.1']))\n",
    "\n",
    "_Barchart1.plot.bar(width=0.9)\n",
    "plt.title(\"Middle School\")\n",
    "plt.ylabel(\"Close Price\")\n"
   ]
  },
  {
   "cell_type": "code",
   "execution_count": 42,
   "metadata": {},
   "outputs": [
    {
     "data": {
      "text/html": [
       "<div>\n",
       "<style scoped>\n",
       "    .dataframe tbody tr th:only-of-type {\n",
       "        vertical-align: middle;\n",
       "    }\n",
       "\n",
       "    .dataframe tbody tr th {\n",
       "        vertical-align: top;\n",
       "    }\n",
       "\n",
       "    .dataframe thead th {\n",
       "        text-align: right;\n",
       "    }\n",
       "</style>\n",
       "<table border=\"1\" class=\"dataframe\">\n",
       "  <thead>\n",
       "    <tr style=\"text-align: right;\">\n",
       "      <th></th>\n",
       "      <th>School District</th>\n",
       "      <th>Numerical Value</th>\n",
       "    </tr>\n",
       "  </thead>\n",
       "  <tbody>\n",
       "    <tr>\n",
       "      <th>0</th>\n",
       "      <td>1 - Aldine</td>\n",
       "      <td>75</td>\n",
       "    </tr>\n",
       "    <tr>\n",
       "      <th>1</th>\n",
       "      <td>1 - Aldine</td>\n",
       "      <td>75</td>\n",
       "    </tr>\n",
       "    <tr>\n",
       "      <th>2</th>\n",
       "      <td>1 - Aldine</td>\n",
       "      <td>75</td>\n",
       "    </tr>\n",
       "    <tr>\n",
       "      <th>3</th>\n",
       "      <td>1 - Aldine</td>\n",
       "      <td>75</td>\n",
       "    </tr>\n",
       "    <tr>\n",
       "      <th>4</th>\n",
       "      <td>1 - Aldine</td>\n",
       "      <td>75</td>\n",
       "    </tr>\n",
       "    <tr>\n",
       "      <th>5</th>\n",
       "      <td>1 - Aldine</td>\n",
       "      <td>75</td>\n",
       "    </tr>\n",
       "    <tr>\n",
       "      <th>6</th>\n",
       "      <td>1 - Aldine</td>\n",
       "      <td>75</td>\n",
       "    </tr>\n",
       "    <tr>\n",
       "      <th>7</th>\n",
       "      <td>27 - Houston</td>\n",
       "      <td>75</td>\n",
       "    </tr>\n",
       "    <tr>\n",
       "      <th>8</th>\n",
       "      <td>1 - Aldine</td>\n",
       "      <td>75</td>\n",
       "    </tr>\n",
       "    <tr>\n",
       "      <th>9</th>\n",
       "      <td>1 - Aldine</td>\n",
       "      <td>75</td>\n",
       "    </tr>\n",
       "    <tr>\n",
       "      <th>10</th>\n",
       "      <td>1 - Aldine</td>\n",
       "      <td>75</td>\n",
       "    </tr>\n",
       "    <tr>\n",
       "      <th>11</th>\n",
       "      <td>1 - Aldine</td>\n",
       "      <td>75</td>\n",
       "    </tr>\n",
       "    <tr>\n",
       "      <th>12</th>\n",
       "      <td>1 - Aldine</td>\n",
       "      <td>75</td>\n",
       "    </tr>\n",
       "    <tr>\n",
       "      <th>13</th>\n",
       "      <td>1 - Aldine</td>\n",
       "      <td>75</td>\n",
       "    </tr>\n",
       "    <tr>\n",
       "      <th>14</th>\n",
       "      <td>1 - Aldine</td>\n",
       "      <td>75</td>\n",
       "    </tr>\n",
       "    <tr>\n",
       "      <th>15</th>\n",
       "      <td>1 - Aldine</td>\n",
       "      <td>75</td>\n",
       "    </tr>\n",
       "    <tr>\n",
       "      <th>16</th>\n",
       "      <td>1 - Aldine</td>\n",
       "      <td>75</td>\n",
       "    </tr>\n",
       "    <tr>\n",
       "      <th>17</th>\n",
       "      <td>1 - Aldine</td>\n",
       "      <td>75</td>\n",
       "    </tr>\n",
       "    <tr>\n",
       "      <th>18</th>\n",
       "      <td>1 - Aldine</td>\n",
       "      <td>75</td>\n",
       "    </tr>\n",
       "    <tr>\n",
       "      <th>19</th>\n",
       "      <td>1 - Aldine</td>\n",
       "      <td>75</td>\n",
       "    </tr>\n",
       "    <tr>\n",
       "      <th>20</th>\n",
       "      <td>1 - Aldine</td>\n",
       "      <td>75</td>\n",
       "    </tr>\n",
       "    <tr>\n",
       "      <th>21</th>\n",
       "      <td>1 - Aldine</td>\n",
       "      <td>75</td>\n",
       "    </tr>\n",
       "    <tr>\n",
       "      <th>22</th>\n",
       "      <td>1 - Aldine</td>\n",
       "      <td>75</td>\n",
       "    </tr>\n",
       "    <tr>\n",
       "      <th>23</th>\n",
       "      <td>1 - Aldine</td>\n",
       "      <td>75</td>\n",
       "    </tr>\n",
       "    <tr>\n",
       "      <th>24</th>\n",
       "      <td>1 - Aldine</td>\n",
       "      <td>75</td>\n",
       "    </tr>\n",
       "    <tr>\n",
       "      <th>25</th>\n",
       "      <td>1 - Aldine</td>\n",
       "      <td>75</td>\n",
       "    </tr>\n",
       "    <tr>\n",
       "      <th>26</th>\n",
       "      <td>1 - Aldine</td>\n",
       "      <td>75</td>\n",
       "    </tr>\n",
       "    <tr>\n",
       "      <th>27</th>\n",
       "      <td>1 - Aldine</td>\n",
       "      <td>75</td>\n",
       "    </tr>\n",
       "    <tr>\n",
       "      <th>28</th>\n",
       "      <td>1 - Aldine</td>\n",
       "      <td>75</td>\n",
       "    </tr>\n",
       "    <tr>\n",
       "      <th>29</th>\n",
       "      <td>1 - Aldine</td>\n",
       "      <td>75</td>\n",
       "    </tr>\n",
       "    <tr>\n",
       "      <th>...</th>\n",
       "      <td>...</td>\n",
       "      <td>...</td>\n",
       "    </tr>\n",
       "    <tr>\n",
       "      <th>324</th>\n",
       "      <td>1 - Aldine</td>\n",
       "      <td>75</td>\n",
       "    </tr>\n",
       "    <tr>\n",
       "      <th>325</th>\n",
       "      <td>1 - Aldine</td>\n",
       "      <td>75</td>\n",
       "    </tr>\n",
       "    <tr>\n",
       "      <th>326</th>\n",
       "      <td>1 - Aldine</td>\n",
       "      <td>75</td>\n",
       "    </tr>\n",
       "    <tr>\n",
       "      <th>327</th>\n",
       "      <td>1 - Aldine</td>\n",
       "      <td>75</td>\n",
       "    </tr>\n",
       "    <tr>\n",
       "      <th>328</th>\n",
       "      <td>1 - Aldine</td>\n",
       "      <td>75</td>\n",
       "    </tr>\n",
       "    <tr>\n",
       "      <th>329</th>\n",
       "      <td>1 - Aldine</td>\n",
       "      <td>75</td>\n",
       "    </tr>\n",
       "    <tr>\n",
       "      <th>330</th>\n",
       "      <td>1 - Aldine</td>\n",
       "      <td>75</td>\n",
       "    </tr>\n",
       "    <tr>\n",
       "      <th>331</th>\n",
       "      <td>1 - Aldine</td>\n",
       "      <td>75</td>\n",
       "    </tr>\n",
       "    <tr>\n",
       "      <th>332</th>\n",
       "      <td>1 - Aldine</td>\n",
       "      <td>75</td>\n",
       "    </tr>\n",
       "    <tr>\n",
       "      <th>333</th>\n",
       "      <td>1 - Aldine</td>\n",
       "      <td>75</td>\n",
       "    </tr>\n",
       "    <tr>\n",
       "      <th>334</th>\n",
       "      <td>1 - Aldine</td>\n",
       "      <td>75</td>\n",
       "    </tr>\n",
       "    <tr>\n",
       "      <th>335</th>\n",
       "      <td>1 - Aldine</td>\n",
       "      <td>75</td>\n",
       "    </tr>\n",
       "    <tr>\n",
       "      <th>336</th>\n",
       "      <td>1 - Aldine</td>\n",
       "      <td>75</td>\n",
       "    </tr>\n",
       "    <tr>\n",
       "      <th>337</th>\n",
       "      <td>1 - Aldine</td>\n",
       "      <td>75</td>\n",
       "    </tr>\n",
       "    <tr>\n",
       "      <th>338</th>\n",
       "      <td>1 - Aldine</td>\n",
       "      <td>75</td>\n",
       "    </tr>\n",
       "    <tr>\n",
       "      <th>339</th>\n",
       "      <td>1 - Aldine</td>\n",
       "      <td>75</td>\n",
       "    </tr>\n",
       "    <tr>\n",
       "      <th>340</th>\n",
       "      <td>1 - Aldine</td>\n",
       "      <td>75</td>\n",
       "    </tr>\n",
       "    <tr>\n",
       "      <th>341</th>\n",
       "      <td>1 - Aldine</td>\n",
       "      <td>75</td>\n",
       "    </tr>\n",
       "    <tr>\n",
       "      <th>342</th>\n",
       "      <td>1 - Aldine</td>\n",
       "      <td>75</td>\n",
       "    </tr>\n",
       "    <tr>\n",
       "      <th>343</th>\n",
       "      <td>1 - Aldine</td>\n",
       "      <td>75</td>\n",
       "    </tr>\n",
       "    <tr>\n",
       "      <th>344</th>\n",
       "      <td>1 - Aldine</td>\n",
       "      <td>75</td>\n",
       "    </tr>\n",
       "    <tr>\n",
       "      <th>345</th>\n",
       "      <td>1 - Aldine</td>\n",
       "      <td>75</td>\n",
       "    </tr>\n",
       "    <tr>\n",
       "      <th>346</th>\n",
       "      <td>1 - Aldine</td>\n",
       "      <td>75</td>\n",
       "    </tr>\n",
       "    <tr>\n",
       "      <th>347</th>\n",
       "      <td>1 - Aldine</td>\n",
       "      <td>75</td>\n",
       "    </tr>\n",
       "    <tr>\n",
       "      <th>348</th>\n",
       "      <td>1 - Aldine</td>\n",
       "      <td>75</td>\n",
       "    </tr>\n",
       "    <tr>\n",
       "      <th>349</th>\n",
       "      <td>1 - Aldine</td>\n",
       "      <td>75</td>\n",
       "    </tr>\n",
       "    <tr>\n",
       "      <th>350</th>\n",
       "      <td>1 - Aldine</td>\n",
       "      <td>75</td>\n",
       "    </tr>\n",
       "    <tr>\n",
       "      <th>351</th>\n",
       "      <td>1 - Aldine</td>\n",
       "      <td>75</td>\n",
       "    </tr>\n",
       "    <tr>\n",
       "      <th>352</th>\n",
       "      <td>1 - Aldine</td>\n",
       "      <td>75</td>\n",
       "    </tr>\n",
       "    <tr>\n",
       "      <th>353</th>\n",
       "      <td>1 - Aldine</td>\n",
       "      <td>75</td>\n",
       "    </tr>\n",
       "  </tbody>\n",
       "</table>\n",
       "<p>354 rows × 2 columns</p>\n",
       "</div>"
      ],
      "text/plain": [
       "    School District  Numerical Value\n",
       "0        1 - Aldine               75\n",
       "1        1 - Aldine               75\n",
       "2        1 - Aldine               75\n",
       "3        1 - Aldine               75\n",
       "4        1 - Aldine               75\n",
       "5        1 - Aldine               75\n",
       "6        1 - Aldine               75\n",
       "7      27 - Houston               75\n",
       "8        1 - Aldine               75\n",
       "9        1 - Aldine               75\n",
       "10       1 - Aldine               75\n",
       "11       1 - Aldine               75\n",
       "12       1 - Aldine               75\n",
       "13       1 - Aldine               75\n",
       "14       1 - Aldine               75\n",
       "15       1 - Aldine               75\n",
       "16       1 - Aldine               75\n",
       "17       1 - Aldine               75\n",
       "18       1 - Aldine               75\n",
       "19       1 - Aldine               75\n",
       "20       1 - Aldine               75\n",
       "21       1 - Aldine               75\n",
       "22       1 - Aldine               75\n",
       "23       1 - Aldine               75\n",
       "24       1 - Aldine               75\n",
       "25       1 - Aldine               75\n",
       "26       1 - Aldine               75\n",
       "27       1 - Aldine               75\n",
       "28       1 - Aldine               75\n",
       "29       1 - Aldine               75\n",
       "..              ...              ...\n",
       "324      1 - Aldine               75\n",
       "325      1 - Aldine               75\n",
       "326      1 - Aldine               75\n",
       "327      1 - Aldine               75\n",
       "328      1 - Aldine               75\n",
       "329      1 - Aldine               75\n",
       "330      1 - Aldine               75\n",
       "331      1 - Aldine               75\n",
       "332      1 - Aldine               75\n",
       "333      1 - Aldine               75\n",
       "334      1 - Aldine               75\n",
       "335      1 - Aldine               75\n",
       "336      1 - Aldine               75\n",
       "337      1 - Aldine               75\n",
       "338      1 - Aldine               75\n",
       "339      1 - Aldine               75\n",
       "340      1 - Aldine               75\n",
       "341      1 - Aldine               75\n",
       "342      1 - Aldine               75\n",
       "343      1 - Aldine               75\n",
       "344      1 - Aldine               75\n",
       "345      1 - Aldine               75\n",
       "346      1 - Aldine               75\n",
       "347      1 - Aldine               75\n",
       "348      1 - Aldine               75\n",
       "349      1 - Aldine               75\n",
       "350      1 - Aldine               75\n",
       "351      1 - Aldine               75\n",
       "352      1 - Aldine               75\n",
       "353      1 - Aldine               75\n",
       "\n",
       "[354 rows x 2 columns]"
      ]
     },
     "execution_count": 42,
     "metadata": {},
     "output_type": "execute_result"
    }
   ],
   "source": [
    "_Barchart = df_Elementary_School_D_join\n",
    "_Barchart [['School District','Numerical Value']]"
   ]
  },
  {
   "cell_type": "code",
   "execution_count": 43,
   "metadata": {
    "scrolled": true
   },
   "outputs": [
    {
     "name": "stderr",
     "output_type": "stream",
     "text": [
      "C:\\Users\\sanja\\Anaconda3\\lib\\site-packages\\ipykernel_launcher.py:2: SettingWithCopyWarning: \n",
      "A value is trying to be set on a copy of a slice from a DataFrame.\n",
      "Try using .loc[row_indexer,col_indexer] = value instead\n",
      "\n",
      "See the caveats in the documentation: http://pandas.pydata.org/pandas-docs/stable/indexing.html#indexing-view-versus-copy\n",
      "  \n",
      "C:\\Users\\sanja\\Anaconda3\\lib\\site-packages\\ipykernel_launcher.py:3: SettingWithCopyWarning: \n",
      "A value is trying to be set on a copy of a slice from a DataFrame.\n",
      "Try using .loc[row_indexer,col_indexer] = value instead\n",
      "\n",
      "See the caveats in the documentation: http://pandas.pydata.org/pandas-docs/stable/indexing.html#indexing-view-versus-copy\n",
      "  This is separate from the ipykernel package so we can avoid doing imports until\n"
     ]
    },
    {
     "data": {
      "text/plain": [
       "Text(0, 0.5, 'Close Price')"
      ]
     },
     "execution_count": 43,
     "metadata": {},
     "output_type": "execute_result"
    },
    {
     "data": {
      "image/png": "[encoded data removed]",
      "text/plain": [
       "<Figure size 432x288 with 1 Axes>"
      ]
     },
     "metadata": {
      "needs_background": "light"
     },
     "output_type": "display_data"
    }
   ],
   "source": [
    "_Barchart = df_Elementary_School_D_join [['School District','Numerical Value', 'Close Price']]\n",
    "_Barchart ['percentNV'] = _Barchart ['Numerical Value']/_Barchart ['Numerical Value'].sum()\n",
    "_Barchart ['percentCP'] = _Barchart ['Close Price']/_Barchart ['Close Price'].sum()\n",
    "_Barchart = _Barchart.groupby(_Barchart['School District']).sum()\n",
    "_Barchart = _Barchart[['percentNV','percentCP']]\n",
    "_Barchart.plot.bar()\n",
    "plt.title(\"Elementary School\")\n",
    "plt.ylabel(\"Close Price\")\n"
   ]
  }
 ],
 "metadata": {
  "kernelspec": {
   "display_name": "Python 3",
   "language": "python",
   "name": "python3"
  },
  "language_info": {
   "codemirror_mode": {
    "name": "ipython",
    "version": 3
   },
   "file_extension": ".py",
   "mimetype": "text/x-python",
   "name": "python",
   "nbconvert_exporter": "python",
   "pygments_lexer": "ipython3",
   "version": "3.7.3"
  }
 },
 "nbformat": 4,
 "nbformat_minor": 2
}
